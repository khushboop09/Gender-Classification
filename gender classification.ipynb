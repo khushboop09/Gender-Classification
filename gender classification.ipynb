{
 "cells": [
  {
   "cell_type": "code",
   "execution_count": 2,
   "metadata": {
    "collapsed": false
   },
   "outputs": [
    {
     "name": "stdout",
     "output_type": "stream",
     "text": [
      "1.0\n",
      "1.0\n",
      "0.545454545455\n",
      "0.909090909091\n",
      "Best classifier: Decision Tree \n"
     ]
    }
   ],
   "source": [
    "from sklearn import tree\n",
    "from sklearn import svm,neighbors\n",
    "from sklearn.metrics import accuracy_score\n",
    "from sklearn.ensemble import RandomForestClassifier\n",
    "import numpy as np\n",
    "\n",
    "#Data set\n",
    "#[height,weight,shoe size]\n",
    "x=[[181,80,44],[177,70,43],[160,60,38],[154,54,37],[166,65,40],[190,90,47],[175,64,39],[177,70,40],[159,55,37],[171,75,42],[181,85,43]]\n",
    "#gender\n",
    "y=['male','female','female','female','male','male','male','female','male','female','male']\n",
    "\n",
    "#Classifiers: \n",
    "clf_dtree=tree.DecisionTreeClassifier() #Decision tree\n",
    "clf_svm=svm.SVC()    #SVM\n",
    "clf_neigh=neighbors.KNeighborsClassifier()  #K nearest neighbor\n",
    "clf_rforest=RandomForestClassifier()  #Random Forest Classifier\n",
    "\n",
    "#Train the models\n",
    "clf_dtree=clf_dtree.fit(x,y)  \n",
    "clf_svm=clf_svm.fit(x,y)\n",
    "clf_neigh=clf_neigh.fit(x,y)\n",
    "clf_rforest=clf_rforest.fit(x,y)\n",
    "\n",
    "#Test using the same dataset -- can also use a different one\n",
    "prediction_dtree=clf_dtree.predict(x)\n",
    "prediction_svm=clf_svm.predict(x)\n",
    "prediction_neigh=clf_neigh.predict(x)\n",
    "prediction_rforest=clf_rforest.predict(x)\n",
    "\n",
    "#calculate the accuracy of the prediction\n",
    "acc_dtree = accuracy_score(y, prediction_dtree)\n",
    "acc_svm=accuracy_score(y,prediction_svm)\n",
    "acc_neigh=accuracy_score(y,prediction_neigh)\n",
    "acc_rforest=accuracy_score(y,prediction_rforest)\n",
    "\n",
    "print acc_dtree\n",
    "print acc_svm\n",
    "print acc_neigh\n",
    "print acc_rforest\n",
    "\n",
    "#Find the most accurate prediction\n",
    "max_acc=np.argmax([acc_dtree,acc_svm,acc_neigh,acc_rforest])\n",
    "classifier_index={0:'Decision Tree',1:'svm',2:'Nearest Neighbor',3:'Random Forest'}\n",
    "print \"Best classifier: {} \".format(classifier_index[max_acc])"
   ]
  },
  {
   "cell_type": "code",
   "execution_count": null,
   "metadata": {
    "collapsed": false
   },
   "outputs": [],
   "source": []
  },
  {
   "cell_type": "code",
   "execution_count": null,
   "metadata": {
    "collapsed": true
   },
   "outputs": [],
   "source": []
  }
 ],
 "metadata": {
  "anaconda-cloud": {},
  "kernelspec": {
   "display_name": "Python [conda root]",
   "language": "python",
   "name": "conda-root-py"
  },
  "language_info": {
   "codemirror_mode": {
    "name": "ipython",
    "version": 2
   },
   "file_extension": ".py",
   "mimetype": "text/x-python",
   "name": "python",
   "nbconvert_exporter": "python",
   "pygments_lexer": "ipython2",
   "version": "2.7.12"
  }
 },
 "nbformat": 4,
 "nbformat_minor": 1
}
